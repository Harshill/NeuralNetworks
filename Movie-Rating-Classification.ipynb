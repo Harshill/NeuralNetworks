{
 "cells": [
  {
   "cell_type": "markdown",
   "metadata": {},
   "source": [
    "# IMDB dataset\n",
    "\n",
    "#### Classify movie reviews as either positive or negative based on the words used\n",
    "\n",
    "The x data is a list of indices in the list of all words for each word that appears <br>\n",
    "The y data is a 0 if the review was negative and 1 if the review was positive <br>\n",
    "\n",
    "This is a binary classification problem"
   ]
  },
  {
   "cell_type": "code",
   "execution_count": 1,
   "metadata": {},
   "outputs": [
    {
     "name": "stderr",
     "output_type": "stream",
     "text": [
      "/home/harshil/miniconda3/lib/python3.6/site-packages/h5py/__init__.py:36: FutureWarning: Conversion of the second argument of issubdtype from `float` to `np.floating` is deprecated. In future, it will be treated as `np.float64 == np.dtype(float).type`.\n",
      "  from ._conv import register_converters as _register_converters\n",
      "Using TensorFlow backend.\n"
     ]
    }
   ],
   "source": [
    "import numpy as np\n",
    "import seaborn as sns\n",
    "import matplotlib.pyplot as graph\n",
    "\n",
    "graph.style.use('fivethirtyeight')\n",
    "\n",
    "from keras import models\n",
    "from keras import layers\n",
    "from keras.datasets import imdb\n",
    "from sklearn.preprocessing import StandardScaler"
   ]
  },
  {
   "cell_type": "code",
   "execution_count": 2,
   "metadata": {},
   "outputs": [
    {
     "name": "stdout",
     "output_type": "stream",
     "text": [
      "(25000,) (25000,)\n",
      "(25000,) (25000,)\n"
     ]
    }
   ],
   "source": [
    "# Train test split\n",
    "\n",
    "n_words = 1000\n",
    "(x_train, y_train), (x_test, y_test) = imdb.load_data(num_words=n_words)\n",
    "\n",
    "print(x_train.shape, y_train.shape)\n",
    "print(x_test.shape, y_test.shape)"
   ]
  },
  {
   "cell_type": "code",
   "execution_count": 3,
   "metadata": {},
   "outputs": [
    {
     "data": {
      "image/png": "[encoded data removed]",
      "text/plain": [
       "<Figure size 432x288 with 1 Axes>"
      ]
     },
     "metadata": {},
     "output_type": "display_data"
    }
   ],
   "source": [
    "sns.countplot(y_train)\n",
    "graph.show()"
   ]
  },
  {
   "cell_type": "code",
   "execution_count": 4,
   "metadata": {},
   "outputs": [],
   "source": [
    "# Convert the list of indices to a feature set n_words long with a zero or one indicating prescence of the words\n",
    "\n",
    "def vectorize_data(data, dimension=n_words):\n",
    "    results = np.zeros((len(data), dimension))\n",
    "    for i, seq in enumerate(data):\n",
    "        results[i, seq] = 1\n",
    "    return results\n",
    "\n",
    "x_train = vectorize_data(x_train)\n",
    "x_test = vectorize_data(x_test)\n",
    "\n",
    "val_size = 10000\n",
    "x_val_test, y_val_test, x_val_train, y_val_train = x_train[:val_size], y_train[:val_size], x_train[val_size:], y_train[val_size:] "
   ]
  },
  {
   "cell_type": "code",
   "execution_count": 5,
   "metadata": {},
   "outputs": [
    {
     "name": "stdout",
     "output_type": "stream",
     "text": [
      "Train on 15000 samples, validate on 10000 samples\n",
      "Epoch 1/5\n",
      "15000/15000 [==============================] - 0s 29us/step - loss: 0.6340 - acc: 0.6589 - val_loss: 0.5233 - val_acc: 0.7798\n",
      "Epoch 2/5\n",
      "15000/15000 [==============================] - 0s 15us/step - loss: 0.4362 - acc: 0.8182 - val_loss: 0.3831 - val_acc: 0.8385\n",
      "Epoch 3/5\n",
      "15000/15000 [==============================] - 0s 14us/step - loss: 0.3459 - acc: 0.8563 - val_loss: 0.3481 - val_acc: 0.8537\n",
      "Epoch 4/5\n",
      "15000/15000 [==============================] - 0s 16us/step - loss: 0.3142 - acc: 0.8696 - val_loss: 0.3413 - val_acc: 0.8582\n",
      "Epoch 5/5\n",
      "15000/15000 [==============================] - 0s 15us/step - loss: 0.3004 - acc: 0.8771 - val_loss: 0.3484 - val_acc: 0.8557\n"
     ]
    }
   ],
   "source": [
    "# Train model on validation\n",
    "\n",
    "model = models.Sequential()\n",
    "model.add(layers.Dense(16, activation='relu', input_shape=(1000,)))\n",
    "model.add(layers.Dense(16, activation='relu'))\n",
    "model.add(layers.Dense(1, activation='sigmoid'))\n",
    "\n",
    "model.compile(\n",
    "    optimizer='adam',\n",
    "    loss='binary_crossentropy',\n",
    "    metrics=['accuracy']\n",
    ")\n",
    "\n",
    "history = model.fit(x_val_train, y_val_train, epochs=5, batch_size=512, validation_data=(x_val_test, y_val_test))"
   ]
  },
  {
   "cell_type": "code",
   "execution_count": 6,
   "metadata": {},
   "outputs": [
    {
     "data": {
      "image/png": "[encoded data removed]",
      "text/plain": [
       "<Figure size 432x288 with 1 Axes>"
      ]
     },
     "metadata": {},
     "output_type": "display_data"
    }
   ],
   "source": [
    "for key, value in history.history.items():\n",
    "    if 'acc' in key:\n",
    "        graph.plot(value, label=key)\n",
    "        graph.legend()\n",
    "graph.show()"
   ]
  },
  {
   "cell_type": "code",
   "execution_count": 7,
   "metadata": {},
   "outputs": [
    {
     "name": "stdout",
     "output_type": "stream",
     "text": [
      "Epoch 1/5\n",
      "25000/25000 [==============================] - 0s 18us/step - loss: 0.5334 - acc: 0.7431\n",
      "Epoch 2/5\n",
      "25000/25000 [==============================] - 0s 12us/step - loss: 0.3764 - acc: 0.8465\n",
      "Epoch 3/5\n",
      "25000/25000 [==============================] - 0s 12us/step - loss: 0.3321 - acc: 0.8622\n",
      "Epoch 4/5\n",
      "25000/25000 [==============================] - 0s 12us/step - loss: 0.3180 - acc: 0.8672\n",
      "Epoch 5/5\n",
      "25000/25000 [==============================] - 0s 12us/step - loss: 0.3103 - acc: 0.8694\n"
     ]
    }
   ],
   "source": [
    "# Train model on full training set \n",
    "\n",
    "model = models.Sequential()\n",
    "model.add(layers.Dense(16, activation='relu', input_shape=(1000,)))\n",
    "model.add(layers.Dense(16, activation='relu'))\n",
    "model.add(layers.Dense(1, activation='sigmoid'))\n",
    "\n",
    "model.compile(\n",
    "    optimizer='rmsprop',\n",
    "    loss='binary_crossentropy',\n",
    "    metrics=['accuracy']\n",
    ")\n",
    "\n",
    "history = model.fit(x_train, y_train, epochs=5, batch_size=512)"
   ]
  },
  {
   "cell_type": "code",
   "execution_count": 8,
   "metadata": {},
   "outputs": [
    {
     "data": {
      "image/png": "[encoded data removed]",
      "text/plain": [
       "<Figure size 432x288 with 1 Axes>"
      ]
     },
     "metadata": {},
     "output_type": "display_data"
    }
   ],
   "source": [
    "for key, value in history.history.items():\n",
    "    if 'acc' in key:\n",
    "        graph.plot(value, label=key)\n",
    "        graph.legend()\n",
    "graph.show()"
   ]
  },
  {
   "cell_type": "code",
   "execution_count": 9,
   "metadata": {},
   "outputs": [
    {
     "name": "stdout",
     "output_type": "stream",
     "text": [
      "25000/25000 [==============================] - 1s 36us/step\n"
     ]
    },
    {
     "data": {
      "text/plain": [
       "[0.3279200676250458, 0.86036]"
      ]
     },
     "execution_count": 9,
     "metadata": {},
     "output_type": "execute_result"
    }
   ],
   "source": [
    "# Test model\n",
    "model.evaluate(x_test, y_test)"
   ]
  }
 ],
 "metadata": {
  "kernelspec": {
   "display_name": "Python 3",
   "language": "python",
   "name": "python3"
  },
  "language_info": {
   "codemirror_mode": {
    "name": "ipython",
    "version": 3
   },
   "file_extension": ".py",
   "mimetype": "text/x-python",
   "name": "python",
   "nbconvert_exporter": "python",
   "pygments_lexer": "ipython3",
   "version": "3.6.3"
  }
 },
 "nbformat": 4,
 "nbformat_minor": 2
}
