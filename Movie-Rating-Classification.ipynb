{
 "cells": [
  {
   "cell_type": "markdown",
   "metadata": {},
   "source": [
    "# IMDB dataset\n",
    "\n",
    "#### Classify movie reviews as either positive or negative based on the words used\n",
    "\n",
    "The x data is a list of indices in the list of all words for each word that appears <br>\n",
    "The y data is a 0 if the review was negative and 1 if the review was positive <br>\n",
    "\n",
    "This is a binary classification problem"
   ]
  },
  {
   "cell_type": "code",
   "execution_count": 1,
   "metadata": {},
   "outputs": [
    {
     "name": "stderr",
     "output_type": "stream",
     "text": [
      "/home/harshil/miniconda3/lib/python3.6/site-packages/h5py/__init__.py:36: FutureWarning: Conversion of the second argument of issubdtype from `float` to `np.floating` is deprecated. In future, it will be treated as `np.float64 == np.dtype(float).type`.\n",
      "  from ._conv import register_converters as _register_converters\n",
      "Using TensorFlow backend.\n"
     ]
    }
   ],
   "source": [
    "import numpy as np\n",
    "import seaborn as sns\n",
    "import matplotlib.pyplot as graph\n",
    "\n",
    "graph.style.use('fivethirtyeight')\n",
    "\n",
    "from keras import models\n",
    "from keras import layers\n",
    "from keras.datasets import imdb\n",
    "from sklearn.preprocessing import StandardScaler"
   ]
  },
  {
   "cell_type": "code",
   "execution_count": 2,
   "metadata": {},
   "outputs": [
    {
     "name": "stdout",
     "output_type": "stream",
     "text": [
      "(25000,) (25000,)\n",
      "(25000,) (25000,)\n"
     ]
    }
   ],
   "source": [
    "# Train test split\n",
    "\n",
    "n_words = 1000\n",
    "(x_train, y_train), (x_test, y_test) = imdb.load_data(num_words=n_words)\n",
    "\n",
    "print(x_train.shape, y_train.shape)\n",
    "print(x_test.shape, y_test.shape)"
   ]
  },
  {
   "cell_type": "markdown",
   "metadata": {},
   "source": [
    "The reviews were converted to just include 1000 of the most frequent words and so becomes hard to read when decoded"
   ]
  },
  {
   "cell_type": "code",
   "execution_count": 3,
   "metadata": {},
   "outputs": [
    {
     "name": "stdout",
     "output_type": "stream",
     "text": [
      "the as you with out themselves powerful and and their becomes and had and of lot from anyone to have after out atmosphere never more room and it so heart shows to years of every never going and help moments or of every and and movie except her was several of enough more with is now and film as you of and and unfortunately of you than him that with out themselves her get for was and of you movie sometimes movie that with scary but and to story wonderful that in seeing in character to of and and with heart had and they of here that with her serious to have does when from why what have and they is you that isn't one will very to as itself with other and in of seen over and for anyone of and br and to whether from than out themselves history he name half some br of and and was two most of mean for 1 any an and she he should is thought and but of script you not while history he heart to real at and but when from one bit then have two of script their with her and most that with wasn't to with and acting watch an for with and film want an\n"
     ]
    }
   ],
   "source": [
    "# Example review\n",
    "word_index = imdb.get_word_index()\n",
    "\n",
    "reverse_word_index = {value: key for key, value in word_index.items()}\n",
    "decoded_review = ' '.join([reverse_word_index[idx] for idx in x_train[0]])\n",
    "print(decoded_review)"
   ]
  },
  {
   "cell_type": "code",
   "execution_count": 4,
   "metadata": {},
   "outputs": [
    {
     "data": {
      "image/png": "[encoded data removed]",
      "text/plain": [
       "<Figure size 432x288 with 1 Axes>"
      ]
     },
     "metadata": {},
     "output_type": "display_data"
    }
   ],
   "source": [
    "sns.countplot(y_train)\n",
    "graph.show()"
   ]
  },
  {
   "cell_type": "code",
   "execution_count": 5,
   "metadata": {},
   "outputs": [],
   "source": [
    "# Convert the list of indices to a feature set n_words long with a zero or one indicating prescence of the words\n",
    "\n",
    "def vectorize_data(data, dimension=n_words):\n",
    "    results = np.zeros((len(data), dimension))\n",
    "    for i, seq in enumerate(data):\n",
    "        results[i, seq] = 1\n",
    "    return results\n",
    "\n",
    "x_train = vectorize_data(x_train)\n",
    "x_test = vectorize_data(x_test)\n",
    "\n",
    "val_size = 10000\n",
    "x_val_test, x_val_train = x_train[:val_size], x_train[val_size:]\n",
    "y_val_test, y_val_train = y_train[:val_size], y_train[val_size:] "
   ]
  },
  {
   "cell_type": "code",
   "execution_count": 6,
   "metadata": {},
   "outputs": [
    {
     "name": "stdout",
     "output_type": "stream",
     "text": [
      "Train on 15000 samples, validate on 10000 samples\n",
      "Epoch 1/5\n",
      "15000/15000 [==============================] - 0s 27us/step - loss: 0.6354 - acc: 0.6588 - val_loss: 0.5246 - val_acc: 0.7789\n",
      "Epoch 2/5\n",
      "15000/15000 [==============================] - 0s 14us/step - loss: 0.4370 - acc: 0.8175 - val_loss: 0.3834 - val_acc: 0.8380\n",
      "Epoch 3/5\n",
      "15000/15000 [==============================] - 0s 14us/step - loss: 0.3460 - acc: 0.8564 - val_loss: 0.3482 - val_acc: 0.8533\n",
      "Epoch 4/5\n",
      "15000/15000 [==============================] - 0s 14us/step - loss: 0.3144 - acc: 0.8696 - val_loss: 0.3413 - val_acc: 0.8576\n",
      "Epoch 5/5\n",
      "15000/15000 [==============================] - 0s 14us/step - loss: 0.3004 - acc: 0.8767 - val_loss: 0.3477 - val_acc: 0.8564\n"
     ]
    }
   ],
   "source": [
    "# Train model on validation\n",
    "\n",
    "model = models.Sequential()\n",
    "model.add(layers.Dense(16, activation='relu', input_shape=(1000,)))\n",
    "model.add(layers.Dense(16, activation='relu'))\n",
    "model.add(layers.Dense(1, activation='sigmoid'))\n",
    "\n",
    "model.compile(\n",
    "    optimizer='adam',\n",
    "    loss='binary_crossentropy',\n",
    "    metrics=['accuracy']\n",
    ")\n",
    "\n",
    "history = model.fit(\n",
    "    x_val_train, y_val_train, \n",
    "    epochs=5, batch_size=512, \n",
    "    validation_data=(x_val_test, y_val_test)\n",
    ")"
   ]
  },
  {
   "cell_type": "code",
   "execution_count": 7,
   "metadata": {},
   "outputs": [
    {
     "data": {
      "image/png": "[encoded data removed]",
      "text/plain": [
       "<Figure size 432x288 with 1 Axes>"
      ]
     },
     "metadata": {},
     "output_type": "display_data"
    }
   ],
   "source": [
    "for key, value in history.history.items():\n",
    "    if 'acc' in key:\n",
    "        graph.plot(value, label=key)\n",
    "        graph.ylabel('Accuracy')\n",
    "        graph.xlabel('Epoch')\n",
    "        graph.legend()\n",
    "graph.show()"
   ]
  },
  {
   "cell_type": "code",
   "execution_count": 8,
   "metadata": {},
   "outputs": [
    {
     "name": "stdout",
     "output_type": "stream",
     "text": [
      "Epoch 1/5\n",
      "25000/25000 [==============================] - 0s 16us/step - loss: 0.5330 - acc: 0.7435\n",
      "Epoch 2/5\n",
      "25000/25000 [==============================] - 0s 10us/step - loss: 0.3764 - acc: 0.8458\n",
      "Epoch 3/5\n",
      "25000/25000 [==============================] - 0s 10us/step - loss: 0.3320 - acc: 0.8625\n",
      "Epoch 4/5\n",
      "25000/25000 [==============================] - 0s 9us/step - loss: 0.3178 - acc: 0.8681\n",
      "Epoch 5/5\n",
      "25000/25000 [==============================] - 0s 10us/step - loss: 0.3099 - acc: 0.8695\n"
     ]
    }
   ],
   "source": [
    "# Train model on full training set \n",
    "\n",
    "model = models.Sequential()\n",
    "model.add(layers.Dense(16, activation='relu', input_shape=(1000,)))\n",
    "model.add(layers.Dense(16, activation='relu'))\n",
    "model.add(layers.Dense(1, activation='sigmoid'))\n",
    "\n",
    "model.compile(\n",
    "    optimizer='rmsprop',\n",
    "    loss='binary_crossentropy',\n",
    "    metrics=['accuracy']\n",
    ")\n",
    "\n",
    "history = model.fit(x_train, y_train, epochs=5, batch_size=512)"
   ]
  },
  {
   "cell_type": "code",
   "execution_count": 9,
   "metadata": {},
   "outputs": [
    {
     "data": {
      "image/png": "[encoded data removed]",
      "text/plain": [
       "<Figure size 432x288 with 1 Axes>"
      ]
     },
     "metadata": {},
     "output_type": "display_data"
    }
   ],
   "source": [
    "for key, value in history.history.items():\n",
    "    if 'acc' in key:\n",
    "        graph.plot(value, label=key)\n",
    "        graph.ylabel('Accuracy')\n",
    "        graph.xlabel('Epoch')\n",
    "        graph.legend()\n",
    "graph.show()"
   ]
  },
  {
   "cell_type": "code",
   "execution_count": 10,
   "metadata": {},
   "outputs": [
    {
     "name": "stdout",
     "output_type": "stream",
     "text": [
      "25000/25000 [==============================] - 1s 34us/step\n",
      "Test Accuracy: 0.860\n"
     ]
    }
   ],
   "source": [
    "# Test model\n",
    "test_loss, test_acc = model.evaluate(x_test, y_test)\n",
    "print(f'Test Accuracy: {test_acc:.3f}')"
   ]
  }
 ],
 "metadata": {
  "kernelspec": {
   "display_name": "Python 3",
   "language": "python",
   "name": "python3"
  },
  "language_info": {
   "codemirror_mode": {
    "name": "ipython",
    "version": 3
   },
   "file_extension": ".py",
   "mimetype": "text/x-python",
   "name": "python",
   "nbconvert_exporter": "python",
   "pygments_lexer": "ipython3",
   "version": "3.6.3"
  }
 },
 "nbformat": 4,
 "nbformat_minor": 2
}
