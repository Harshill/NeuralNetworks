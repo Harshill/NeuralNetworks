{
 "cells": [
  {
   "cell_type": "markdown",
   "metadata": {},
   "source": [
    "# Reuters dataset\n",
    "\n",
    "#### Classify articles into one of 46 topics\n",
    "\n",
    "The x data is a list of indices in the list of all words for each word that appears <br>\n",
    "The y data is the index of the topic <br>\n",
    "\n",
    "This is a multiclass classification problem"
   ]
  },
  {
   "cell_type": "code",
   "execution_count": 1,
   "metadata": {},
   "outputs": [
    {
     "name": "stderr",
     "output_type": "stream",
     "text": [
      "/home/harshil/miniconda3/lib/python3.6/site-packages/h5py/__init__.py:36: FutureWarning: Conversion of the second argument of issubdtype from `float` to `np.floating` is deprecated. In future, it will be treated as `np.float64 == np.dtype(float).type`.\n",
      "  from ._conv import register_converters as _register_converters\n",
      "Using TensorFlow backend.\n"
     ]
    }
   ],
   "source": [
    "import numpy as np\n",
    "import seaborn as sns\n",
    "import matplotlib.pyplot as graph\n",
    "\n",
    "graph.style.use('fivethirtyeight')\n",
    "\n",
    "from keras import models\n",
    "from keras import layers\n",
    "from keras.datasets import reuters\n",
    "from sklearn.preprocessing import StandardScaler"
   ]
  },
  {
   "cell_type": "code",
   "execution_count": 2,
   "metadata": {},
   "outputs": [
    {
     "name": "stdout",
     "output_type": "stream",
     "text": [
      "(8982,) (8982,)\n",
      "(2246,) (2246,)\n"
     ]
    }
   ],
   "source": [
    "n_words = 10000\n",
    "(x_train, y_train), (x_test, y_test) = reuters.load_data(num_words=n_words)\n",
    "\n",
    "print(x_train.shape, y_train.shape)\n",
    "print(x_test.shape, y_test.shape)"
   ]
  },
  {
   "cell_type": "code",
   "execution_count": 3,
   "metadata": {},
   "outputs": [
    {
     "name": "stdout",
     "output_type": "stream",
     "text": [
      "\n",
      "the of of mln loss for plc said at only ended said commonwealth could 1 traders now april 0 a after said from 1985 and from foreign 000 april 0 prices its account year a but in this mln home an states earlier and rise and revs vs 000 its 16 vs 000 a but 3 psbr oils several and shareholders and dividend vs 000 its all 4 vs 000 1 mln agreed largely april 0 are 2 states will billion total and against 000 pct dlrs\n"
     ]
    }
   ],
   "source": [
    "# Example review\n",
    "word_index = reuters.get_word_index()\n",
    "\n",
    "reverse_word_index = {value: key for key, value in word_index.items()}\n",
    "decoded_review = ' '.join([reverse_word_index[idx] for idx in x_train[0]])\n",
    "print()\n",
    "print(decoded_review)"
   ]
  },
  {
   "cell_type": "code",
   "execution_count": 4,
   "metadata": {},
   "outputs": [
    {
     "data": {
      "image/png": "[encoded data removed]",
      "text/plain": [
       "<Figure size 792x360 with 1 Axes>"
      ]
     },
     "metadata": {},
     "output_type": "display_data"
    }
   ],
   "source": [
    "graph.figure(figsize=(11, 5))\n",
    "sns.countplot(y_train)\n",
    "graph.xlabel('Topic Index')\n",
    "graph.ylabel('Count')\n",
    "graph.show()\n",
    "\n",
    "n_topics = len(set(y_train))"
   ]
  },
  {
   "cell_type": "code",
   "execution_count": 5,
   "metadata": {},
   "outputs": [],
   "source": [
    "# Convert the list of indices to a feature set n_words long with a zero or one indicating prescence of the words\n",
    "def vectorize_data(data, dimension=n_words):\n",
    "    results = np.zeros((len(data), dimension))\n",
    "    for i, seq in enumerate(data):\n",
    "        results[i, seq] = 1\n",
    "    return results\n",
    "\n",
    "x_train = vectorize_data(x_train)\n",
    "x_test = vectorize_data(x_test)\n",
    "\n",
    "# Convert labels to one hot encoding, note: can do this with keras.ultils.np_utils.to_categorical\n",
    "def one_hot_label(labels, dimension=n_topics):\n",
    "    results = np.zeros((len(labels), dimension))\n",
    "    for i, label in enumerate(labels):\n",
    "        results[i, label] = 1\n",
    "    return results\n",
    "\n",
    "y_train = one_hot_label(y_train)\n",
    "y_test = one_hot_label(y_test)\n",
    "\n",
    "val_size = 2500\n",
    "x_val_test, y_val_test, x_val_train, y_val_train = x_train[:val_size], y_train[:val_size], x_train[val_size:], y_train[val_size:] "
   ]
  },
  {
   "cell_type": "code",
   "execution_count": 6,
   "metadata": {},
   "outputs": [
    {
     "name": "stdout",
     "output_type": "stream",
     "text": [
      "Train on 6482 samples, validate on 2500 samples\n",
      "Epoch 1/9\n",
      "6482/6482 [==============================] - 4s 622us/step - loss: 2.0781 - acc: 0.5503 - val_loss: 1.3643 - val_acc: 0.7112\n",
      "Epoch 2/9\n",
      "6482/6482 [==============================] - 4s 561us/step - loss: 0.9576 - acc: 0.7865 - val_loss: 1.1081 - val_acc: 0.7580\n",
      "Epoch 3/9\n",
      "6482/6482 [==============================] - 4s 565us/step - loss: 0.6056 - acc: 0.8703 - val_loss: 1.0579 - val_acc: 0.7720\n",
      "Epoch 4/9\n",
      "6482/6482 [==============================] - 4s 569us/step - loss: 0.3834 - acc: 0.9224 - val_loss: 1.0178 - val_acc: 0.7752\n",
      "Epoch 5/9\n",
      "6482/6482 [==============================] - 4s 569us/step - loss: 0.2869 - acc: 0.9371 - val_loss: 1.0049 - val_acc: 0.7912\n",
      "Epoch 6/9\n",
      "6482/6482 [==============================] - 4s 568us/step - loss: 0.1996 - acc: 0.9543 - val_loss: 1.0410 - val_acc: 0.7772\n",
      "Epoch 7/9\n",
      "6482/6482 [==============================] - 4s 568us/step - loss: 0.1677 - acc: 0.9556 - val_loss: 1.0385 - val_acc: 0.7888\n",
      "Epoch 8/9\n",
      "6482/6482 [==============================] - 4s 566us/step - loss: 0.1427 - acc: 0.9599 - val_loss: 1.0108 - val_acc: 0.7988\n",
      "Epoch 9/9\n",
      "6482/6482 [==============================] - 4s 568us/step - loss: 0.1378 - acc: 0.9607 - val_loss: 1.3853 - val_acc: 0.7168\n"
     ]
    }
   ],
   "source": [
    "model = models.Sequential()\n",
    "model.add(layers.Dense(512, activation='relu', input_shape=(10000,)))\n",
    "model.add(layers.Dense(64, activation='relu'))\n",
    "model.add(layers.Dense(n_topics, activation='softmax'))\n",
    "\n",
    "model.compile(\n",
    "    optimizer='rmsprop',\n",
    "    loss='categorical_crossentropy',\n",
    "    metrics=['accuracy']\n",
    ")\n",
    "\n",
    "history = model.fit(\n",
    "    x_val_train, y_val_train, \n",
    "    epochs=9, batch_size=512, \n",
    "    validation_data=(x_val_test, y_val_test)\n",
    ")"
   ]
  },
  {
   "cell_type": "code",
   "execution_count": 7,
   "metadata": {},
   "outputs": [
    {
     "data": {
      "image/png": "[encoded data removed]",
      "text/plain": [
       "<Figure size 432x288 with 1 Axes>"
      ]
     },
     "metadata": {},
     "output_type": "display_data"
    }
   ],
   "source": [
    "for key, value in history.history.items():\n",
    "    if 'acc' in key:\n",
    "        graph.plot(value, label=key)\n",
    "        graph.legend()\n",
    "graph.show()"
   ]
  },
  {
   "cell_type": "markdown",
   "metadata": {},
   "source": [
    "### Train with entire training set"
   ]
  },
  {
   "cell_type": "code",
   "execution_count": 8,
   "metadata": {},
   "outputs": [
    {
     "name": "stdout",
     "output_type": "stream",
     "text": [
      "Epoch 1/9\n",
      "8982/8982 [==============================] - 5s 507us/step - loss: 1.9026 - acc: 0.5923\n",
      "Epoch 2/9\n",
      "8982/8982 [==============================] - 4s 475us/step - loss: 0.8738 - acc: 0.8153\n",
      "Epoch 3/9\n",
      "8982/8982 [==============================] - 4s 485us/step - loss: 0.5320 - acc: 0.8892\n",
      "Epoch 4/9\n",
      "8982/8982 [==============================] - 4s 466us/step - loss: 0.3524 - acc: 0.9223\n",
      "Epoch 5/9\n",
      "8982/8982 [==============================] - 4s 475us/step - loss: 0.2601 - acc: 0.9407\n",
      "Epoch 6/9\n",
      "8982/8982 [==============================] - 5s 514us/step - loss: 0.2111 - acc: 0.9463\n",
      "Epoch 7/9\n",
      "8982/8982 [==============================] - 5s 512us/step - loss: 0.1821 - acc: 0.9482\n",
      "Epoch 8/9\n",
      "8982/8982 [==============================] - 4s 494us/step - loss: 0.1611 - acc: 0.9534\n",
      "Epoch 9/9\n",
      "8982/8982 [==============================] - 4s 490us/step - loss: 0.1474 - acc: 0.9520\n"
     ]
    }
   ],
   "source": [
    "model = models.Sequential()\n",
    "model.add(layers.Dense(512, activation='relu', input_shape=(10000,)))\n",
    "model.add(layers.Dense(64, activation='relu'))\n",
    "model.add(layers.Dense(n_topics, activation='softmax'))\n",
    "\n",
    "model.compile(\n",
    "    optimizer='rmsprop',\n",
    "    loss='categorical_crossentropy',\n",
    "    metrics=['accuracy']\n",
    ")\n",
    "\n",
    "history = model.fit(x_train, y_train, epochs=9, batch_size=512)"
   ]
  },
  {
   "cell_type": "code",
   "execution_count": 9,
   "metadata": {},
   "outputs": [
    {
     "data": {
      "image/png": "[encoded data removed]",
      "text/plain": [
       "<Figure size 432x288 with 1 Axes>"
      ]
     },
     "metadata": {},
     "output_type": "display_data"
    }
   ],
   "source": [
    "for key, value in history.history.items():\n",
    "    if 'acc' in key:\n",
    "        graph.plot(value, label=key)\n",
    "        graph.legend()\n",
    "graph.show()"
   ]
  },
  {
   "cell_type": "code",
   "execution_count": 10,
   "metadata": {},
   "outputs": [
    {
     "name": "stdout",
     "output_type": "stream",
     "text": [
      "2246/2246 [==============================] - 1s 391us/step\n"
     ]
    },
    {
     "data": {
      "text/plain": [
       "[1.0645203457702406, 0.798753339269813]"
      ]
     },
     "execution_count": 10,
     "metadata": {},
     "output_type": "execute_result"
    }
   ],
   "source": [
    "model.evaluate(x_test, y_test)"
   ]
  },
  {
   "cell_type": "code",
   "execution_count": null,
   "metadata": {},
   "outputs": [],
   "source": []
  }
 ],
 "metadata": {
  "kernelspec": {
   "display_name": "Python 3",
   "language": "python",
   "name": "python3"
  },
  "language_info": {
   "codemirror_mode": {
    "name": "ipython",
    "version": 3
   },
   "file_extension": ".py",
   "mimetype": "text/x-python",
   "name": "python",
   "nbconvert_exporter": "python",
   "pygments_lexer": "ipython3",
   "version": "3.6.3"
  }
 },
 "nbformat": 4,
 "nbformat_minor": 2
}
