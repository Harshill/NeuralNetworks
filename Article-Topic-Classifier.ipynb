{
 "cells": [
  {
   "cell_type": "markdown",
   "metadata": {},
   "source": [
    "# Reuters dataset\n",
    "\n",
    "#### Classify articles into one of 46 topics\n",
    "\n",
    "The x data is a list of indices in the list of all words for each word that appears <br>\n",
    "The y data is the index of the topic <br>\n",
    "\n",
    "This is a multiclass classification problem"
   ]
  },
  {
   "cell_type": "code",
   "execution_count": 1,
   "metadata": {},
   "outputs": [
    {
     "name": "stderr",
     "output_type": "stream",
     "text": [
      "/home/harshil/miniconda3/lib/python3.6/site-packages/h5py/__init__.py:36: FutureWarning: Conversion of the second argument of issubdtype from `float` to `np.floating` is deprecated. In future, it will be treated as `np.float64 == np.dtype(float).type`.\n",
      "  from ._conv import register_converters as _register_converters\n",
      "Using TensorFlow backend.\n"
     ]
    }
   ],
   "source": [
    "import numpy as np\n",
    "import seaborn as sns\n",
    "import matplotlib.pyplot as graph\n",
    "\n",
    "graph.style.use('fivethirtyeight')\n",
    "\n",
    "from keras import models\n",
    "from keras import layers\n",
    "from keras.datasets import reuters\n",
    "from sklearn.preprocessing import StandardScaler"
   ]
  },
  {
   "cell_type": "code",
   "execution_count": 2,
   "metadata": {},
   "outputs": [
    {
     "name": "stdout",
     "output_type": "stream",
     "text": [
      "(8982,) (8982,)\n",
      "(2246,) (2246,)\n"
     ]
    }
   ],
   "source": [
    "n_words = 10000\n",
    "(x_train, y_train), (x_test, y_test) = reuters.load_data(num_words=n_words)\n",
    "\n",
    "print(x_train.shape, y_train.shape)\n",
    "print(x_test.shape, y_test.shape)"
   ]
  },
  {
   "cell_type": "code",
   "execution_count": 3,
   "metadata": {},
   "outputs": [
    {
     "data": {
      "image/png": "[encoded data removed]",
      "text/plain": [
       "<Figure size 792x360 with 1 Axes>"
      ]
     },
     "metadata": {},
     "output_type": "display_data"
    }
   ],
   "source": [
    "graph.figure(figsize=(11, 5))\n",
    "sns.countplot(y_train)\n",
    "graph.xlabel('Topic Index')\n",
    "graph.ylabel('Count')\n",
    "graph.show()\n",
    "\n",
    "n_topics = len(set(y_train))"
   ]
  },
  {
   "cell_type": "code",
   "execution_count": 4,
   "metadata": {},
   "outputs": [],
   "source": [
    "# Convert the list of indices to a feature set n_words long with a zero or one indicating prescence of the words\n",
    "def vectorize_data(data, dimension=n_words):\n",
    "    results = np.zeros((len(data), dimension))\n",
    "    for i, seq in enumerate(data):\n",
    "        results[i, seq] = 1\n",
    "    return results\n",
    "\n",
    "x_train = vectorize_data(x_train)\n",
    "x_test = vectorize_data(x_test)\n",
    "\n",
    "# Convert labels to one hot encoding, note: can do this with keras.ultils.np_utils.to_categorical\n",
    "def one_hot_label(labels, dimension=n_topics):\n",
    "    results = np.zeros((len(labels), dimension))\n",
    "    for i, label in enumerate(labels):\n",
    "        results[i, label] = 1\n",
    "    return results\n",
    "\n",
    "y_train = one_hot_label(y_train)\n",
    "y_test = one_hot_label(y_test)\n",
    "\n",
    "val_size = 2500\n",
    "x_val_test, y_val_test, x_val_train, y_val_train = x_train[:val_size], y_train[:val_size], x_train[val_size:], y_train[val_size:] "
   ]
  },
  {
   "cell_type": "code",
   "execution_count": 5,
   "metadata": {},
   "outputs": [
    {
     "name": "stdout",
     "output_type": "stream",
     "text": [
      "Train on 6482 samples, validate on 2500 samples\n",
      "Epoch 1/9\n",
      "6482/6482 [==============================] - 1s 151us/step - loss: 3.2719 - acc: 0.3473 - val_loss: 2.6977 - val_acc: 0.3788\n",
      "Epoch 2/9\n",
      "6482/6482 [==============================] - 1s 118us/step - loss: 2.3394 - acc: 0.4636 - val_loss: 2.0886 - val_acc: 0.5296\n",
      "Epoch 3/9\n",
      "6482/6482 [==============================] - 1s 118us/step - loss: 1.8230 - acc: 0.6069 - val_loss: 1.7723 - val_acc: 0.6252\n",
      "Epoch 4/9\n",
      "6482/6482 [==============================] - 1s 112us/step - loss: 1.5316 - acc: 0.6748 - val_loss: 1.5953 - val_acc: 0.6528\n",
      "Epoch 5/9\n",
      "6482/6482 [==============================] - 1s 113us/step - loss: 1.3369 - acc: 0.7103 - val_loss: 1.4681 - val_acc: 0.6776\n",
      "Epoch 6/9\n",
      "6482/6482 [==============================] - 1s 112us/step - loss: 1.1824 - acc: 0.7397 - val_loss: 1.3779 - val_acc: 0.6968\n",
      "Epoch 7/9\n",
      "6482/6482 [==============================] - 1s 119us/step - loss: 1.0554 - acc: 0.7637 - val_loss: 1.3010 - val_acc: 0.7148\n",
      "Epoch 8/9\n",
      "6482/6482 [==============================] - 1s 114us/step - loss: 0.9438 - acc: 0.7942 - val_loss: 1.2409 - val_acc: 0.7332\n",
      "Epoch 9/9\n",
      "6482/6482 [==============================] - 1s 117us/step - loss: 0.8456 - acc: 0.8164 - val_loss: 1.2074 - val_acc: 0.7364\n"
     ]
    }
   ],
   "source": [
    "model = models.Sequential()\n",
    "model.add(layers.Dense(16, activation='relu', input_shape=(10000,)))\n",
    "model.add(layers.Dense(64, activation='relu'))\n",
    "model.add(layers.Dense(n_topics, activation='softmax'))\n",
    "\n",
    "model.compile(\n",
    "    optimizer='rmsprop',\n",
    "    loss='categorical_crossentropy',\n",
    "    metrics=['accuracy']\n",
    ")\n",
    "\n",
    "history = model.fit(x_val_train, y_val_train, epochs=9, batch_size=512, validation_data=(x_val_test, y_val_test))"
   ]
  },
  {
   "cell_type": "code",
   "execution_count": 6,
   "metadata": {},
   "outputs": [
    {
     "data": {
      "image/png": "[encoded data removed]",
      "text/plain": [
       "<Figure size 432x288 with 1 Axes>"
      ]
     },
     "metadata": {},
     "output_type": "display_data"
    }
   ],
   "source": [
    "for key, value in history.history.items():\n",
    "    if 'acc' in key:\n",
    "        graph.plot(value, label=key)\n",
    "        graph.legend()\n",
    "graph.show()"
   ]
  },
  {
   "cell_type": "code",
   "execution_count": 7,
   "metadata": {},
   "outputs": [
    {
     "name": "stdout",
     "output_type": "stream",
     "text": [
      "Epoch 1/9\n",
      "8982/8982 [==============================] - 1s 140us/step - loss: 2.4732 - acc: 0.5320\n",
      "Epoch 2/9\n",
      "8982/8982 [==============================] - 1s 119us/step - loss: 1.3639 - acc: 0.7042\n",
      "Epoch 3/9\n",
      "8982/8982 [==============================] - 1s 116us/step - loss: 1.0222 - acc: 0.7825\n",
      "Epoch 4/9\n",
      "8982/8982 [==============================] - 1s 116us/step - loss: 0.8002 - acc: 0.8346\n",
      "Epoch 5/9\n",
      "8982/8982 [==============================] - 1s 117us/step - loss: 0.6338 - acc: 0.8690\n",
      "Epoch 6/9\n",
      "8982/8982 [==============================] - 1s 122us/step - loss: 0.5042 - acc: 0.8970\n",
      "Epoch 7/9\n",
      "8982/8982 [==============================] - 1s 117us/step - loss: 0.4077 - acc: 0.9126\n",
      "Epoch 8/9\n",
      "8982/8982 [==============================] - 1s 116us/step - loss: 0.3340 - acc: 0.9265\n",
      "Epoch 9/9\n",
      "8982/8982 [==============================] - 1s 116us/step - loss: 0.2765 - acc: 0.9355\n"
     ]
    }
   ],
   "source": [
    "model = models.Sequential()\n",
    "model.add(layers.Dense(64, activation='relu', input_shape=(10000,)))\n",
    "model.add(layers.Dense(64, activation='relu'))\n",
    "model.add(layers.Dense(n_topics, activation='softmax'))\n",
    "\n",
    "model.compile(\n",
    "    optimizer='rmsprop',\n",
    "    loss='categorical_crossentropy',\n",
    "    metrics=['accuracy']\n",
    ")\n",
    "\n",
    "history = model.fit(x_train, y_train, epochs=9, batch_size=512)"
   ]
  },
  {
   "cell_type": "code",
   "execution_count": 8,
   "metadata": {},
   "outputs": [
    {
     "data": {
      "image/png": "[encoded data removed]",
      "text/plain": [
       "<Figure size 432x288 with 1 Axes>"
      ]
     },
     "metadata": {},
     "output_type": "display_data"
    }
   ],
   "source": [
    "for key, value in history.history.items():\n",
    "    if 'acc' in key:\n",
    "        graph.plot(value, label=key)\n",
    "        graph.legend()\n",
    "graph.show()"
   ]
  },
  {
   "cell_type": "code",
   "execution_count": 9,
   "metadata": {},
   "outputs": [
    {
     "name": "stdout",
     "output_type": "stream",
     "text": [
      "2246/2246 [==============================] - 0s 164us/step\n"
     ]
    },
    {
     "data": {
      "text/plain": [
       "[0.9339641915403725, 0.799198575297956]"
      ]
     },
     "execution_count": 9,
     "metadata": {},
     "output_type": "execute_result"
    }
   ],
   "source": [
    "model.evaluate(x_test, y_test)"
   ]
  },
  {
   "cell_type": "code",
   "execution_count": null,
   "metadata": {},
   "outputs": [],
   "source": []
  }
 ],
 "metadata": {
  "kernelspec": {
   "display_name": "Python 3",
   "language": "python",
   "name": "python3"
  },
  "language_info": {
   "codemirror_mode": {
    "name": "ipython",
    "version": 3
   },
   "file_extension": ".py",
   "mimetype": "text/x-python",
   "name": "python",
   "nbconvert_exporter": "python",
   "pygments_lexer": "ipython3",
   "version": "3.6.3"
  }
 },
 "nbformat": 4,
 "nbformat_minor": 2
}
